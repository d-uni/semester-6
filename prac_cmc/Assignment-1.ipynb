{
 "cells": [
  {
   "cell_type": "code",
   "execution_count": 124,
   "metadata": {},
   "outputs": [],
   "source": [
    "import pandas as pd\n",
    "import numpy as np\n",
    "from datetime import datetime, timedelta"
   ]
  },
  {
   "cell_type": "code",
   "execution_count": 138,
   "metadata": {},
   "outputs": [],
   "source": [
    "inventory = pd.read_csv('MS-b1-inventory.csv')\n",
    "supply = pd.read_csv('MS-b1-supply.csv')\n",
    "sell = pd.read_csv('MS-b1-sell.csv')\n",
    "supply['date'] = pd.to_datetime(supply['date'], format='%Y-%m-%d')\n",
    "inventory['date'] = pd.to_datetime(inventory['date'], format='%Y-%m-%d')"
   ]
  },
  {
   "cell_type": "code",
   "execution_count": 114,
   "metadata": {},
   "outputs": [
    {
     "name": "stdout",
     "output_type": "stream",
     "text": [
      "          date    apple     pen\n",
      "0   2006-01-31    12157     811\n",
      "1   2006-02-28    29859    2280\n",
      "2   2006-03-31    42135    3317\n",
      "3   2006-04-30    55235    4094\n",
      "4   2006-05-31    66963    5158\n",
      "..         ...      ...     ...\n",
      "115 2015-08-31  1518055  118479\n",
      "116 2015-09-30  1532120  119640\n",
      "117 2015-10-31  1543664  120608\n",
      "118 2015-11-30  1557415  121734\n",
      "119 2015-12-31  1569425  122601\n",
      "\n",
      "[120 rows x 3 columns]\n"
     ]
    }
   ],
   "source": [
    "print(inventory)"
   ]
  },
  {
   "cell_type": "markdown",
   "metadata": {},
   "source": [
    "### 1.1 Состояние склада на каждый день"
   ]
  },
  {
   "cell_type": "code",
   "execution_count": 126,
   "metadata": {},
   "outputs": [
    {
     "name": "stdout",
     "output_type": "stream",
     "text": [
      "           date  apple  pen\n",
      "0    2006-01-01   1815  156\n",
      "1    2006-01-02   1862  143\n",
      "2    2006-01-03   1880  171\n",
      "3    2006-01-04   1797  153\n",
      "4    2006-01-05   1942  133\n",
      "...         ...    ...  ...\n",
      "3647 2015-12-27   1831  152\n",
      "3648 2015-12-28   1797  160\n",
      "3649 2015-12-29   1840  139\n",
      "3650 2015-12-30   1820  140\n",
      "3651 2015-12-31   1884  124\n",
      "\n",
      "[3652 rows x 3 columns]\n"
     ]
    }
   ],
   "source": [
    "sell_conv = sell\n",
    "sell_conv['sku_num'] = sell['sku_num'].apply(lambda x: 1 if x[:8] == \"MS-b1-ap\" else 2)\n",
    "sell_conv[\"pen\"] = (sell_conv['sku_num'] == 2).astype(int)\n",
    "sell_conv[\"apple\"] = (sell_conv['sku_num'] == 1).astype(int)\n",
    "daily_s = sell_conv.groupby('date').sum()\n",
    "daily_s['date'] = daily_s.index\n",
    "daily_s = daily_s.reset_index(drop=True)\n",
    "daily_s = daily_s.drop(columns=[\"sku_num\"])\n",
    "daily_s = daily_s.loc[:,['date','apple','pen']]\n",
    "daily_s['date'] = pd.to_datetime(daily_s['date'], format='%Y-%m-%d')\n",
    "print(daily_s) #продажи на каждый день"
   ]
  },
  {
   "cell_type": "code",
   "execution_count": 139,
   "metadata": {},
   "outputs": [],
   "source": [
    "daily = pd.DataFrame(0, index=np.arange(len(daily_s[30:])), columns=['date', 'apple', 'pen'])\n",
    "daily[\"date\"] = list(daily_s[30:][\"date\"])\n",
    "daily.loc[0] = inventory.loc[0]\n",
    "for i in list(daily_s[\"date\"][1:-30]):\n",
    "    j = i +  timedelta(days=30)\n",
    "    apples_in = 0\n",
    "    pen_in = 0\n",
    "    if j in list(supply[\"date\"]):\n",
    "        apples_in = int(supply[supply['date']==j]['apple'])\n",
    "        pen_in = int(supply[supply['date']==j]['pen'])\n",
    "    apple_vol = int(daily[daily[\"date\"] == (j - timedelta(1))]['apple']) - int(daily_s[daily_s[\"date\"] == j]['apple']) + apples_in\n",
    "    pen_vol = int(daily[daily[\"date\"] == (j - timedelta(1))]['pen']) - int(daily_s[daily_s[\"date\"] == j]['pen']) + pen_in\n",
    "    daily[daily[\"date\"] == j] = [j,apple_vol,pen_vol]\n",
    "    if j in list(inventory['date']):\n",
    "        apples_vol = int(inventory[inventory['date']==j][\"apple\"]) \n",
    "        pen_vol =  int(inventory[inventory['date']==j][\"pen\"]) \n",
    "        daily[daily[\"date\"] == j] = [j, apples_vol, pen_vol]"
   ]
  },
  {
   "cell_type": "code",
   "execution_count": 141,
   "metadata": {},
   "outputs": [
    {
     "data": {
      "text/html": [
       "<div>\n",
       "<style scoped>\n",
       "    .dataframe tbody tr th:only-of-type {\n",
       "        vertical-align: middle;\n",
       "    }\n",
       "\n",
       "    .dataframe tbody tr th {\n",
       "        vertical-align: top;\n",
       "    }\n",
       "\n",
       "    .dataframe thead th {\n",
       "        text-align: right;\n",
       "    }\n",
       "</style>\n",
       "<table border=\"1\" class=\"dataframe\">\n",
       "  <thead>\n",
       "    <tr style=\"text-align: right;\">\n",
       "      <th></th>\n",
       "      <th>date</th>\n",
       "      <th>apple</th>\n",
       "      <th>pen</th>\n",
       "    </tr>\n",
       "  </thead>\n",
       "  <tbody>\n",
       "    <tr>\n",
       "      <th>0</th>\n",
       "      <td>2006-01-31</td>\n",
       "      <td>12157</td>\n",
       "      <td>811</td>\n",
       "    </tr>\n",
       "    <tr>\n",
       "      <th>1</th>\n",
       "      <td>2006-02-01</td>\n",
       "      <td>45336</td>\n",
       "      <td>3413</td>\n",
       "    </tr>\n",
       "    <tr>\n",
       "      <th>2</th>\n",
       "      <td>2006-02-02</td>\n",
       "      <td>43452</td>\n",
       "      <td>3284</td>\n",
       "    </tr>\n",
       "    <tr>\n",
       "      <th>3</th>\n",
       "      <td>2006-02-03</td>\n",
       "      <td>41633</td>\n",
       "      <td>3153</td>\n",
       "    </tr>\n",
       "    <tr>\n",
       "      <th>4</th>\n",
       "      <td>2006-02-04</td>\n",
       "      <td>39781</td>\n",
       "      <td>3015</td>\n",
       "    </tr>\n",
       "    <tr>\n",
       "      <th>5</th>\n",
       "      <td>2006-02-05</td>\n",
       "      <td>37918</td>\n",
       "      <td>2860</td>\n",
       "    </tr>\n",
       "    <tr>\n",
       "      <th>6</th>\n",
       "      <td>2006-02-06</td>\n",
       "      <td>36068</td>\n",
       "      <td>2701</td>\n",
       "    </tr>\n",
       "    <tr>\n",
       "      <th>7</th>\n",
       "      <td>2006-02-07</td>\n",
       "      <td>34274</td>\n",
       "      <td>2552</td>\n",
       "    </tr>\n",
       "    <tr>\n",
       "      <th>8</th>\n",
       "      <td>2006-02-08</td>\n",
       "      <td>32401</td>\n",
       "      <td>2415</td>\n",
       "    </tr>\n",
       "    <tr>\n",
       "      <th>9</th>\n",
       "      <td>2006-02-09</td>\n",
       "      <td>30517</td>\n",
       "      <td>2276</td>\n",
       "    </tr>\n",
       "    <tr>\n",
       "      <th>10</th>\n",
       "      <td>2006-02-10</td>\n",
       "      <td>28622</td>\n",
       "      <td>2133</td>\n",
       "    </tr>\n",
       "    <tr>\n",
       "      <th>11</th>\n",
       "      <td>2006-02-11</td>\n",
       "      <td>26733</td>\n",
       "      <td>1994</td>\n",
       "    </tr>\n",
       "    <tr>\n",
       "      <th>12</th>\n",
       "      <td>2006-02-12</td>\n",
       "      <td>24911</td>\n",
       "      <td>1852</td>\n",
       "    </tr>\n",
       "    <tr>\n",
       "      <th>13</th>\n",
       "      <td>2006-02-13</td>\n",
       "      <td>23058</td>\n",
       "      <td>1696</td>\n",
       "    </tr>\n",
       "    <tr>\n",
       "      <th>14</th>\n",
       "      <td>2006-02-14</td>\n",
       "      <td>21149</td>\n",
       "      <td>1547</td>\n",
       "    </tr>\n",
       "  </tbody>\n",
       "</table>\n",
       "</div>"
      ],
      "text/plain": [
       "         date  apple   pen\n",
       "0  2006-01-31  12157   811\n",
       "1  2006-02-01  45336  3413\n",
       "2  2006-02-02  43452  3284\n",
       "3  2006-02-03  41633  3153\n",
       "4  2006-02-04  39781  3015\n",
       "5  2006-02-05  37918  2860\n",
       "6  2006-02-06  36068  2701\n",
       "7  2006-02-07  34274  2552\n",
       "8  2006-02-08  32401  2415\n",
       "9  2006-02-09  30517  2276\n",
       "10 2006-02-10  28622  2133\n",
       "11 2006-02-11  26733  1994\n",
       "12 2006-02-12  24911  1852\n",
       "13 2006-02-13  23058  1696\n",
       "14 2006-02-14  21149  1547"
      ]
     },
     "execution_count": 141,
     "metadata": {},
     "output_type": "execute_result"
    }
   ],
   "source": [
    "daily[:15] #состояние на каждый день"
   ]
  },
  {
   "cell_type": "markdown",
   "metadata": {},
   "source": [
    "### 1.2 Три лучших месяца с точки зрения самых эффективных продаж"
   ]
  },
  {
   "cell_type": "code",
   "execution_count": 142,
   "metadata": {},
   "outputs": [
    {
     "name": "stdout",
     "output_type": "stream",
     "text": [
      "Best months for pen: [(12, 2010), (8, 2009), (1, 2014)]\n",
      "The pen volume:  [4564, 4599, 4617]\n",
      "\n",
      "Best months for apple: [(5, 2013), (7, 2012), (1, 2011)]\n",
      "The apple volume:  [58434, 58438, 58512]\n"
     ]
    }
   ],
   "source": [
    "month_s = daily_s\n",
    "month_s.index = month_s[\"date\"]\n",
    "month_s = month_s.drop(columns=[\"date\"])\n",
    "month_s = month_s.groupby(by=[month_s.index.month, month_s.index.year]).sum()\n",
    "best_month_s_pen = month_s.sort_values(by='pen')[-3:]\n",
    "best_month_s_apple = month_s.sort_values(by='apple')[-3:]\n",
    "print(\"Best months for pen:\", list(month_s.sort_values(by='pen')[-3:].index))\n",
    "print(\"The pen volume: \", list(best_month_s_pen['pen']))\n",
    "print()\n",
    "print(\"Best months for apple:\", list(month_s.sort_values(by='apple')[-3:].index))\n",
    "print(\"The apple volume: \", list(best_month_s_apple['apple']))"
   ]
  },
  {
   "cell_type": "markdown",
   "metadata": {},
   "source": [
    "#### Лучшие месяцы по продажам ручек: <br> 1) Декабрь 2010 - 4564 шт. <br> 2) Август 2009 - 4599 шт. <br> 3) Январь 2014 - 4617 шт.<br>\n",
    "#### Лучшие месяцы по продажам яблок: <br> 1) Май 2013 - 58434 шт. <br> 2) Июль 2012 - 58438 шт. <br> 3) Январь 2011 - 58512 шт."
   ]
  },
  {
   "cell_type": "markdown",
   "metadata": {},
   "source": [
    "### 2.1 Месячные данные о количестве сворованного товара"
   ]
  },
  {
   "cell_type": "code",
   "execution_count": 158,
   "metadata": {},
   "outputs": [],
   "source": [
    "month_st = pd.DataFrame(columns=['date', 'apple', 'pen'])\n",
    "\n",
    "wr_daily = pd.DataFrame(0, index=np.arange(len(daily_s[30:])), columns=['date', 'apple', 'pen'])\n",
    "wr_daily[\"date\"] = list(daily_s[30:][\"date\"])\n",
    "wr_daily.loc[0] = inventory.loc[0]\n",
    "\n",
    "for i in list(daily_s[\"date\"][1:-30]):\n",
    "    j = i +  timedelta(days=30)\n",
    "    apples_in = 0\n",
    "    pen_in = 0\n",
    "    if j in list(supply[\"date\"]):\n",
    "        apples_in = int(supply[supply['date']==j]['apple'])\n",
    "        pen_in = int(supply[supply['date']==j]['pen'])\n",
    "    apple_vol = int(wr_daily[wr_daily[\"date\"] == (j - timedelta(1))]['apple']) - int(daily_s[daily_s[\"date\"] == j]['apple']) + apples_in\n",
    "    pen_vol = int(wr_daily[wr_daily[\"date\"] == (j - timedelta(1))]['pen']) - int(daily_s[daily_s[\"date\"] == j]['pen']) + pen_in\n",
    "    wr_daily[wr_daily[\"date\"] == j] = [j,apple_vol,pen_vol]\n",
    "    if j in list(inventory['date']):\n",
    "        apple_st = int(wr_daily[wr_daily[\"date\"] == (j)]['apple']) - int(inventory[inventory['date']==j][\"apple\"]) \n",
    "        pen_st = int(wr_daily[wr_daily[\"date\"] == (j)]['pen']) - int(inventory[inventory['date']==j][\"pen\"]) \n",
    "        month_st.loc[len(month_st.index)] = [j,apple_st,pen_st] \n",
    "        wr_daily[wr_daily[\"date\"] == j] = daily[daily[\"date\"] == j]"
   ]
  },
  {
   "cell_type": "code",
   "execution_count": 152,
   "metadata": {},
   "outputs": [
    {
     "data": {
      "text/html": [
       "<div>\n",
       "<style scoped>\n",
       "    .dataframe tbody tr th:only-of-type {\n",
       "        vertical-align: middle;\n",
       "    }\n",
       "\n",
       "    .dataframe tbody tr th {\n",
       "        vertical-align: top;\n",
       "    }\n",
       "\n",
       "    .dataframe thead th {\n",
       "        text-align: right;\n",
       "    }\n",
       "</style>\n",
       "<table border=\"1\" class=\"dataframe\">\n",
       "  <thead>\n",
       "    <tr style=\"text-align: right;\">\n",
       "      <th></th>\n",
       "      <th>date</th>\n",
       "      <th>apple</th>\n",
       "      <th>pen</th>\n",
       "    </tr>\n",
       "  </thead>\n",
       "  <tbody>\n",
       "    <tr>\n",
       "      <th>0</th>\n",
       "      <td>2006-02-28</td>\n",
       "      <td>6</td>\n",
       "      <td>6</td>\n",
       "    </tr>\n",
       "    <tr>\n",
       "      <th>1</th>\n",
       "      <td>2006-03-31</td>\n",
       "      <td>7</td>\n",
       "      <td>6</td>\n",
       "    </tr>\n",
       "    <tr>\n",
       "      <th>2</th>\n",
       "      <td>2006-04-30</td>\n",
       "      <td>6</td>\n",
       "      <td>14</td>\n",
       "    </tr>\n",
       "    <tr>\n",
       "      <th>3</th>\n",
       "      <td>2006-05-31</td>\n",
       "      <td>8</td>\n",
       "      <td>1</td>\n",
       "    </tr>\n",
       "    <tr>\n",
       "      <th>4</th>\n",
       "      <td>2006-06-30</td>\n",
       "      <td>7</td>\n",
       "      <td>9</td>\n",
       "    </tr>\n",
       "    <tr>\n",
       "      <th>5</th>\n",
       "      <td>2006-07-31</td>\n",
       "      <td>10</td>\n",
       "      <td>12</td>\n",
       "    </tr>\n",
       "    <tr>\n",
       "      <th>6</th>\n",
       "      <td>2006-08-31</td>\n",
       "      <td>3</td>\n",
       "      <td>5</td>\n",
       "    </tr>\n",
       "    <tr>\n",
       "      <th>7</th>\n",
       "      <td>2006-09-30</td>\n",
       "      <td>6</td>\n",
       "      <td>4</td>\n",
       "    </tr>\n",
       "    <tr>\n",
       "      <th>8</th>\n",
       "      <td>2006-10-31</td>\n",
       "      <td>1</td>\n",
       "      <td>9</td>\n",
       "    </tr>\n",
       "    <tr>\n",
       "      <th>9</th>\n",
       "      <td>2006-11-30</td>\n",
       "      <td>6</td>\n",
       "      <td>7</td>\n",
       "    </tr>\n",
       "    <tr>\n",
       "      <th>10</th>\n",
       "      <td>2006-12-31</td>\n",
       "      <td>8</td>\n",
       "      <td>7</td>\n",
       "    </tr>\n",
       "    <tr>\n",
       "      <th>11</th>\n",
       "      <td>2007-01-31</td>\n",
       "      <td>8</td>\n",
       "      <td>11</td>\n",
       "    </tr>\n",
       "    <tr>\n",
       "      <th>12</th>\n",
       "      <td>2007-02-28</td>\n",
       "      <td>8</td>\n",
       "      <td>2</td>\n",
       "    </tr>\n",
       "    <tr>\n",
       "      <th>13</th>\n",
       "      <td>2007-03-31</td>\n",
       "      <td>4</td>\n",
       "      <td>6</td>\n",
       "    </tr>\n",
       "    <tr>\n",
       "      <th>14</th>\n",
       "      <td>2007-04-30</td>\n",
       "      <td>4</td>\n",
       "      <td>5</td>\n",
       "    </tr>\n",
       "  </tbody>\n",
       "</table>\n",
       "</div>"
      ],
      "text/plain": [
       "         date apple pen\n",
       "0  2006-02-28     6   6\n",
       "1  2006-03-31     7   6\n",
       "2  2006-04-30     6  14\n",
       "3  2006-05-31     8   1\n",
       "4  2006-06-30     7   9\n",
       "5  2006-07-31    10  12\n",
       "6  2006-08-31     3   5\n",
       "7  2006-09-30     6   4\n",
       "8  2006-10-31     1   9\n",
       "9  2006-11-30     6   7\n",
       "10 2006-12-31     8   7\n",
       "11 2007-01-31     8  11\n",
       "12 2007-02-28     8   2\n",
       "13 2007-03-31     4   6\n",
       "14 2007-04-30     4   5"
      ]
     },
     "execution_count": 152,
     "metadata": {},
     "output_type": "execute_result"
    }
   ],
   "source": [
    "month_st[:15]"
   ]
  },
  {
   "cell_type": "markdown",
   "metadata": {},
   "source": [
    "### 1.2 Три худших месяца с точки зрения краж"
   ]
  },
  {
   "cell_type": "code",
   "execution_count": 164,
   "metadata": {},
   "outputs": [
    {
     "name": "stdout",
     "output_type": "stream",
     "text": [
      "Worst months for pen: [2009, 2010, 2011]\n",
      "The pen volume:  [96, 96, 100]\n",
      "\n",
      "Worst months for apple: [2012, 2011, 2014]\n",
      "The apple volume:  [82, 88, 90]\n"
     ]
    }
   ],
   "source": [
    "month_stt = month_st\n",
    "month_stt.index = month_st[\"date\"]\n",
    "month_stt = month_stt.drop(columns=[\"date\"])\n",
    "month_stt = month_stt.groupby(by=month_stt.index.year).sum()\n",
    "best_month_st_pen = month_stt.sort_values(by='pen')[-3:]\n",
    "best_month_st_apple = month_stt.sort_values(by='apple')[-3:]\n",
    "print(\"Worst months for pen:\", list(month_stt.sort_values(by='pen')[-3:].index))\n",
    "print(\"The pen volume: \", list(best_month_st_pen['pen']))\n",
    "print()\n",
    "print(\"Worst months for apple:\", list(month_stt.sort_values(by='apple')[-3:].index))\n",
    "print(\"The apple volume: \", list(best_month_st_apple['apple']))"
   ]
  },
  {
   "cell_type": "markdown",
   "metadata": {},
   "source": [
    "#### Худшие месяцы по кражам ручек: <br> 1) 2009 - 96 шт. <br> 2) 2010 - 96 шт. <br> 3) 2011 - 10 шт.<br>\n",
    "#### Худшие месяцы по кражам яблок: <br> 1) 2012 - 82 шт. <br> 2) 2011 - 88 шт. <br> 3) 2014 - 90 шт."
   ]
  }
 ],
 "metadata": {
  "kernelspec": {
   "display_name": "Python 3",
   "language": "python",
   "name": "python3"
  },
  "language_info": {
   "codemirror_mode": {
    "name": "ipython",
    "version": 3
   },
   "file_extension": ".py",
   "mimetype": "text/x-python",
   "name": "python",
   "nbconvert_exporter": "python",
   "pygments_lexer": "ipython3",
   "version": "3.8.5"
  }
 },
 "nbformat": 4,
 "nbformat_minor": 4
}
